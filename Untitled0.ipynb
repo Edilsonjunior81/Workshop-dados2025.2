{
  "cells": [
    {
      "cell_type": "markdown",
      "metadata": {
        "id": "view-in-github",
        "colab_type": "text"
      },
      "source": [
        "<a href=\"https://colab.research.google.com/github/Edilsonjunior81/Workshop-dados2025.2/blob/main/Untitled0.ipynb\" target=\"_parent\"><img src=\"https://colab.research.google.com/assets/colab-badge.svg\" alt=\"Open In Colab\"/></a>"
      ]
    },
    {
      "cell_type": "code",
      "execution_count": 17,
      "metadata": {
        "colab": {
          "base_uri": "https://localhost:8080/"
        },
        "id": "b2abf014",
        "outputId": "e95faf4c-2548-4c6d-aa23-f6cb5f09758a"
      },
      "outputs": [
        {
          "output_type": "stream",
          "name": "stdout",
          "text": [
            "Tabela após tratamento:\n",
            "   id       name  age registration_date  grade active\n",
            "0   1        Ana   25        2023-05-12    8.5   True\n",
            "1   2      Bruno   23               NaT    9.0   True\n",
            "2   3      Carla   30               NaT    0.0  False\n",
            "3   4     Daniel    0        2022-07-15    7.2   True\n",
            "4   5      Érica   27               NaT    8.0    NaN\n",
            "5   6  Francisco   29               NaT   10.0  False\n",
            "6   7   Gabriela   21        2023-01-05   10.0   True\n",
            "7   8   Henrique   19               NaT    9.5  False\n",
            "8   9      Ivana   11        2023-03-10    0.0   True\n",
            "9  10       José    0        2022-11-25    6.7   True\n",
            "\n",
            "Informações do DataFrame:\n",
            "<class 'pandas.core.frame.DataFrame'>\n",
            "RangeIndex: 10 entries, 0 to 9\n",
            "Data columns (total 6 columns):\n",
            " #   Column             Non-Null Count  Dtype         \n",
            "---  ------             --------------  -----         \n",
            " 0   id                 10 non-null     int64         \n",
            " 1   name               10 non-null     object        \n",
            " 2   age                10 non-null     int64         \n",
            " 3   registration_date  5 non-null      datetime64[ns]\n",
            " 4   grade              10 non-null     float64       \n",
            " 5   active             9 non-null      object        \n",
            "dtypes: datetime64[ns](1), float64(1), int64(2), object(2)\n",
            "memory usage: 612.0+ bytes\n",
            "None\n"
          ]
        }
      ],
      "source": [
        "import pandas as pd\n",
        "import numpy as np\n",
        "\n",
        "# Criar DataFrame\n",
        "data = {\n",
        "    'id': [1, 2, 3, 4, 5, 6, 7, 8, 9, 10],\n",
        "    'nome': ['Ana', 'Bruno', 'Carla', 'Daniel', 'Érica', 'Francisco', 'Gabriela', 'Henrique', 'Ivana', 'José'],\n",
        "    'idade': ['25', 'vinte e três', '30', None, '27', '29', '21', '19', '11', '?'],\n",
        "    'data_inscricao': ['2023-05-12', '2023/13/01', None, '2022-07-15', '2022-08-XX', '15/09/2022',\n",
        "                       '2023-01-05', '2023-02-30', '2023-03-10', '2022-11-25'],\n",
        "    'nota': ['8.5', '9.0', None, '7.2', '8', 'dez', '10', '9.5', None, '6.7'],\n",
        "    'ativo': ['Sim', 'TRUE', 'Não', 'sim', 'e', 'FALSE', 'TRUE', 'nao', 'Yes', 'sim']\n",
        "}\n",
        "df = pd.DataFrame(data)\n",
        "\n",
        "# Limpeza e padronização\n",
        "df = df.dropna(subset=['nome'])\n",
        "df['idade'] = pd.to_numeric(df['idade'].replace({'vinte e três': 23, '?': np.nan}), errors='coerce').fillna(0).astype(int)\n",
        "df['data_inscricao'] = pd.to_datetime(df['data_inscricao'], errors='coerce')\n",
        "df['nota'] = pd.to_numeric(df['nota'].replace({'dez': 10}), errors='coerce').fillna(0).astype(float)\n",
        "df['ativo'] = df['ativo'].str.strip().str.lower().map({'sim': True, 'true': True, 'yes': True,\n",
        "                                                      'não': False, 'nao': False, 'false': False, 'e': np.nan})\n",
        "df = df.drop_duplicates()\n",
        "df.rename(columns={'nome':'name', 'idade':'age', 'data_inscricao':'registration_date',\n",
        "                   'nota':'grade', 'ativo':'active'}, inplace=True)\n",
        "\n",
        "# Visualizar resultado\n",
        "print(\"Tabela após tratamento:\")\n",
        "print(df)\n",
        "print(\"\\nInformações do DataFrame:\")\n",
        "print(df.info())\n"
      ]
    }
  ],
  "metadata": {
    "colab": {
      "provenance": [],
      "authorship_tag": "ABX9TyOCwr2ro3VX5ekycEVj9MvQ",
      "include_colab_link": true
    },
    "kernelspec": {
      "display_name": "Python 3",
      "name": "python3"
    },
    "language_info": {
      "name": "python"
    }
  },
  "nbformat": 4,
  "nbformat_minor": 0
}